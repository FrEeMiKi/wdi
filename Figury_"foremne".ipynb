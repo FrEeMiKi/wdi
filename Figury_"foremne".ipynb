{
  "nbformat": 4,
  "nbformat_minor": 0,
  "metadata": {
    "colab": {
      "provenance": [],
      "authorship_tag": "ABX9TyN5yJWLCdSrveN+DZ380j4O",
      "include_colab_link": true
    },
    "kernelspec": {
      "name": "python3",
      "display_name": "Python 3"
    },
    "language_info": {
      "name": "python"
    }
  },
  "cells": [
    {
      "cell_type": "markdown",
      "metadata": {
        "id": "view-in-github",
        "colab_type": "text"
      },
      "source": [
        "<a href=\"https://colab.research.google.com/github/FrEeMiKi/wdi/blob/main/Figury_%22foremne%22.ipynb\" target=\"_parent\"><img src=\"https://colab.research.google.com/assets/colab-badge.svg\" alt=\"Open In Colab\"/></a>"
      ]
    },
    {
      "cell_type": "code",
      "execution_count": 44,
      "metadata": {
        "colab": {
          "base_uri": "https://localhost:8080/"
        },
        "id": "Cn1Jl_B4bMQm",
        "outputId": "79b08551-5eaa-4644-df0e-fdacf240e0bd"
      },
      "outputs": [
        {
          "name": "stdout",
          "output_type": "stream",
          "text": [
            "Wpisz koniec, aby skończyć dodawanie punktów \n",
            "x1: 0\n",
            "y1: 0\n",
            "Wpisz koniec, aby skończyć dodawanie punktów \n",
            "x2: 4\n",
            "y2: 0\n",
            "Wpisz koniec, aby skończyć dodawanie punktów \n",
            "x3: 0\n",
            "y3: 4\n",
            "Wpisz koniec, aby skończyć dodawanie punktów \n",
            "x4: 4\n",
            "y4: 4\n",
            "Wpisz koniec, aby skończyć dodawanie punktów konie\n",
            "x5: k\n",
            "Wpisz koniec, aby skończyć dodawanie punktów koniec\n"
          ]
        }
      ],
      "source": [
        "x# @title\n",
        "\n",
        "\n",
        "dane = []\n",
        "i = 0\n",
        "\n",
        "while input(\"Wpisz koniec, aby skończyć dodawanie punktów \") != \"koniec\":\n",
        "\n",
        "\n",
        "    dane.append((0,0))\n",
        "    i += 1\n",
        "    try:\n",
        "        dane[i-1] = (float(input(f\"x{i}: \")), float((input(f\"y{i}: \"))))\n",
        "    except ValueError:\n",
        "        i += -1\n",
        "        dane.pop()\n"
      ]
    },
    {
      "cell_type": "code",
      "source": [
        "dane = [(1.0, 0.0), (0.3090169944, 0.9510565163), (-0.8090169944, 0.5877852523), (-0.8090169944, -0.5877852523), (0.3090169944, -0.9510565163), (1,1),(0,1),  (0.8412535328311812, 0.5406408174555976), (0.41541501300188644, 0.9096319953545183), (-0.142314838273285, 0.9898214418809328), (-0.6548607339452851, 0.7557495743542583), (-0.9594929736144974, 0.28173255684142967), (-0.9594929736144975, -0.2817325568414294), (-0.6548607339452852, -0.7557495743542582), (-0.14231483827328523, -0.9898214418809327), (0.41541501300188605, -0.9096319953545186), (0.8412535328311812, -0.5406408174555976)]"
      ],
      "metadata": {
        "id": "kuPROhcbioeK"
      },
      "execution_count": 87,
      "outputs": []
    },
    {
      "cell_type": "code",
      "source": [
        "# @title\n",
        "\n",
        "for s in range(len(dane)):\n",
        "  print(\"Punkt\", s + 1, dane[s])"
      ],
      "metadata": {
        "colab": {
          "base_uri": "https://localhost:8080/"
        },
        "id": "SLcN1czX-Vb_",
        "outputId": "bcc0fdb6-7c0d-434d-f074-8721cd0b1324",
        "cellView": "form"
      },
      "execution_count": 45,
      "outputs": [
        {
          "output_type": "stream",
          "name": "stdout",
          "text": [
            "Punkt 1 (0.0, 0.0)\n",
            "Punkt 2 (4.0, 0.0)\n",
            "Punkt 3 (0.0, 4.0)\n",
            "Punkt 4 (4.0, 4.0)\n"
          ]
        }
      ]
    },
    {
      "cell_type": "code",
      "source": [
        "# @title\n",
        "import numpy as np                 # v 1.19.2\n",
        "import matplotlib.pyplot as plt    # v 3.3.2\n",
        "\n",
        "# Enter x and y coordinates of points and colors\n",
        "xs = [x for x,y in dane]\n",
        "ys = [y for x,y in dane]\n",
        "colors = ['m', 'g', 'r', 'b']\n",
        "\n",
        "# Select length of axes and the space between tick labels\n",
        "xmin, xmax, ymin, ymax = min(xs), max(xs), min(ys), max(ys)\n",
        "ticks_frequency = 1\n",
        "\n",
        "# Plot points\n",
        "fig, ax = plt.subplots(figsize=(10, 10))\n",
        "ax.scatter(xs, ys)\n",
        "# Set bottom and left spines as x and y axes of coordinate system\n",
        "ax.spines['bottom'].set_position('zero')\n",
        "ax.spines['left'].set_position('zero')\n",
        "\n",
        "# Remove top and right spines\n",
        "ax.spines['top'].set_visible(False)\n",
        "ax.spines['right'].set_visible(False)\n",
        "\n",
        "# Create 'x' and 'y' labels placed at the end of the axes\n",
        "ax.set_xlabel('x', size=14, labelpad=-24, x=1.03)\n",
        "ax.set_ylabel('y', size=14, labelpad=-21, y=1.02, rotation=0)\n",
        "\n",
        "# Create custom major ticks to determine position of tick labels\n",
        "x_ticks = np.arange(xmin, xmax+1, ticks_frequency)\n",
        "y_ticks = np.arange(ymin, ymax+1, ticks_frequency)\n",
        "ax.set_xticks(x_ticks[x_ticks != 0])\n",
        "ax.set_yticks(y_ticks[y_ticks != 0])\n",
        "\n",
        "# Create minor ticks placed at each integer to enable drawing of minor grid\n",
        "# lines: note that this has no effect in this example with ticks_frequency=1\n",
        "ax.set_xticks(np.arange(xmin, xmax+1), minor=True)\n",
        "ax.set_yticks(np.arange(ymin, ymax+1), minor=True)\n",
        "\n",
        "# Draw major and minor grid lines\n",
        "ax.grid(which='both', color='grey', linewidth=1, linestyle='-', alpha=0.2)\n",
        "\n",
        "# Draw arrows\n",
        "arrow_fmt = dict(markersize=4, color='black', clip_on=False)\n",
        "ax.plot((1), (0), marker='>', transform=ax.get_yaxis_transform(), **arrow_fmt)\n",
        "ax.plot((0), (1), marker='^', transform=ax.get_xaxis_transform(), **arrow_fmt)\n",
        "ax.set(xlim=(xmin-1, xmax+1), ylim=(ymin-1, ymax+1), aspect='equal')\n",
        "\n",
        "def uklad(figures):\n",
        "\n",
        "  # Enter x and y coordinates of points and colors\n",
        "  xs = [x for x,y in dane]\n",
        "  ys = [y for x,y in dane]\n",
        "  colors = ['m', 'g', 'r', 'b']\n",
        "\n",
        "  # Select length of axes and the space between tick labels\n",
        "  xmin, xmax, ymin, ymax = min(xs), max(xs), min(ys), max(ys)\n",
        "  ticks_frequency = 1\n",
        "\n",
        "  # Plot points\n",
        "  fig, ax = plt.subplots(figsize=(10, 10))\n",
        "  ax.scatter(xs, ys)\n",
        "  # Set bottom and left spines as x and y axes of coordinate system\n",
        "  ax.spines['bottom'].set_position('zero')\n",
        "  ax.spines['left'].set_position('zero')\n",
        "\n",
        "  # Remove top and right spines\n",
        "  ax.spines['top'].set_visible(False)\n",
        "  ax.spines['right'].set_visible(False)\n",
        "\n",
        "  # Create 'x' and 'y' labels placed at the end of the axes\n",
        "  ax.set_xlabel('x', size=14, labelpad=-24, x=1.03)\n",
        "  ax.set_ylabel('y', size=14, labelpad=-21, y=1.02, rotation=0)\n",
        "\n",
        "  # Create custom major ticks to determine position of tick labels\n",
        "  x_ticks = np.arange(xmin, xmax+1, ticks_frequency)\n",
        "  y_ticks = np.arange(ymin, ymax+1, ticks_frequency)\n",
        "  ax.set_xticks(x_ticks[x_ticks != 0])\n",
        "  ax.set_yticks(y_ticks[y_ticks != 0])\n",
        "\n",
        "  # Create minor ticks placed at each integer to enable drawing of minor grid\n",
        "  # lines: note that this has no effect in this example with ticks_frequency=1\n",
        "  ax.set_xticks(np.arange(xmin, xmax+1), minor=True)\n",
        "  ax.set_yticks(np.arange(ymin, ymax+1), minor=True)\n",
        "\n",
        "  # Draw major and minor grid lines\n",
        "  ax.grid(which='both', color='grey', linewidth=1, linestyle='-', alpha=0.2)\n",
        "\n",
        "  # Draw arrows\n",
        "  arrow_fmt = dict(markersize=4, color='black', clip_on=False)\n",
        "  ax.plot((1), (0), marker='>', transform=ax.get_yaxis_transform(), **arrow_fmt)\n",
        "  ax.plot((0), (1), marker='^', transform=ax.get_xaxis_transform(), **arrow_fmt)\n",
        "  ax.set(xlim=(xmin-1, xmax+1), ylim=(ymin-1, ymax+1), aspect='equal')\n",
        "\n",
        "  for z in figures:\n",
        "    for edge in figures[z]:\n",
        "            # Pobierz indeksy punktów z krawędzi\n",
        "            start_index, end_index = edge\n",
        "\n",
        "            # Pobierz współrzędne punktów\n",
        "            start_point = dane[start_index - 1]\n",
        "            end_point = dane[end_index - 1]\n",
        "\n",
        "            # Rysuj krawędź\n",
        "            plt.plot([start_point[0], end_point[0]], [start_point[1], end_point[1]], color='blue')\n",
        "\n",
        "\n",
        "\n",
        "\n",
        "  plt.show()\n",
        "\n",
        "plt.show()"
      ],
      "metadata": {
        "colab": {
          "base_uri": "https://localhost:8080/",
          "height": 832
        },
        "cellView": "form",
        "id": "DIM5_u5zCepU",
        "outputId": "190e05b2-643c-4a21-e9f7-53af2c9bcd91"
      },
      "execution_count": 124,
      "outputs": [
        {
          "output_type": "display_data",
          "data": {
            "text/plain": [
              "<Figure size 1000x1000 with 1 Axes>"
            ],
            "image/png": "[encoded data removed]"
          },
          "metadata": {}
        }
      ]
    },
    {
      "cell_type": "code",
      "source": [
        "# @title\n",
        "\n",
        "def polygon(dane):\n",
        "    _ = 0\n",
        "    distances = {}\n",
        "\n",
        "    for (i,j) in dane:\n",
        "        __ = 0\n",
        "        _ += 1\n",
        "\n",
        "        for (l,k) in dane[_ :]:\n",
        "            length = round(((i - l)**2 + (j - k)**2)**0.5, 5)\n",
        "\n",
        "            if length in distances:\n",
        "                distances[length].append((_, __ + _+ 1))\n",
        "            else:\n",
        "                distances[length] = [(_, __ + _ + 1)]\n",
        "            __ += 1\n",
        "\n",
        "\n",
        "    for i in distances: print(i, \":\", distances[i])\n",
        "\n",
        "    while True:\n",
        "        try:\n",
        "            a = float(input(\"Podaj dlugosc boku: \"))\n",
        "            if a <= 0:\n",
        "                raise ValueError\n",
        "            break\n",
        "        except ValueError:\n",
        "            pass\n",
        "    if a not in distances:\n",
        "      print(\"Nie ma takiej długosci bokow\")\n",
        "      return False\n",
        "    elif len(distances[a]) < 3:\n",
        "      print(\"Punkty tworzą prosta/proste\")\n",
        "      return False\n",
        "\n",
        "    edges = distances[a]\n",
        "\n",
        "\n",
        "    from itertools import combinations\n",
        "\n",
        "\n",
        "    figures = {}\n",
        "    for l in range(3, len(edges) + 1):\n",
        "      for i in combinations(edges, l):\n",
        "        nodes = []\n",
        "        for (x,y) in i:\n",
        "          nodes.append(x)\n",
        "          nodes.append(y)\n",
        "        nodes = list(set(nodes))\n",
        "        if len(nodes) == len(i):\n",
        "          figures[len(nodes)] = i\n",
        "\n",
        "    if len(figures) == 0:\n",
        "      print(\"Nie ma takiej figury\")\n",
        "      return False\n",
        "    uklad(figures)\n",
        "    for z in figures:\n",
        "      for x, c in figures[z]:\n",
        "        n, m = dane[x-1]\n",
        "        h, j = dane[c-1]\n",
        "        if m == j or n == h:\n",
        "          pass\n",
        "        else:\n",
        "          print(\"Figura nie posiada boku równoległego do osi współrzędnych\")\n",
        "          return False\n",
        "\n",
        "    return True"
      ],
      "metadata": {
        "id": "xvADwH6S-Z67"
      },
      "execution_count": 127,
      "outputs": []
    },
    {
      "cell_type": "code",
      "source": [
        "polygon(dane)"
      ],
      "metadata": {
        "colab": {
          "base_uri": "https://localhost:8080/",
          "height": 1000
        },
        "id": "QcZCvTnBl_LW",
        "outputId": "046374e5-1e47-4993-f248-7cea0417410b"
      },
      "execution_count": 128,
      "outputs": [
        {
          "name": "stdout",
          "output_type": "stream",
          "text": [
            "1.17557 : [(1, 2), (1, 5), (2, 3), (3, 4), (4, 5)]\n",
            "1.90211 : [(1, 3), (1, 4), (2, 4), (2, 5), (3, 5)]\n",
            "1.0 : [(1, 6), (6, 7)]\n",
            "1.41421 : [(1, 7)]\n",
            "0.56347 : [(1, 8), (1, 17), (8, 9), (9, 10), (10, 11), (11, 12), (12, 13), (13, 14), (14, 15), (15, 16), (16, 17)]\n",
            "1.08128 : [(1, 9), (1, 16), (8, 10), (8, 17), (9, 11), (10, 12), (11, 13), (12, 14), (13, 15), (14, 16), (15, 17)]\n",
            "1.5115 : [(1, 10), (1, 15), (8, 11), (8, 16), (9, 12), (9, 17), (10, 13), (11, 14), (12, 15), (13, 16), (14, 17)]\n",
            "1.81926 : [(1, 11), (1, 14), (8, 12), (8, 15), (9, 13), (9, 16), (10, 14), (10, 17), (11, 15), (12, 16), (13, 17)]\n",
            "1.97964 : [(1, 12), (1, 13), (8, 13), (8, 14), (9, 14), (9, 15), (10, 15), (10, 16), (11, 16), (11, 17), (12, 17)]\n",
            "0.69271 : [(2, 6)]\n",
            "0.31287 : [(2, 7)]\n",
            "0.6721 : [(2, 8), (5, 17)]\n",
            "0.11418 : [(2, 9), (5, 16)]\n",
            "0.45299 : [(2, 10), (5, 15)]\n",
            "0.98347 : [(2, 11), (5, 14)]\n",
            "1.43426 : [(2, 12), (5, 13)]\n",
            "1.76887 : [(2, 13), (5, 12)]\n",
            "1.96017 : [(2, 14), (5, 11)]\n",
            "1.99266 : [(2, 15), (5, 10)]\n",
            "1.86373 : [(2, 16), (5, 9)]\n",
            "1.5838 : [(2, 17), (5, 8)]\n",
            "1.85539 : [(3, 6)]\n",
            "0.90798 : [(3, 7)]\n",
            "1.65094 : [(3, 8), (4, 17)]\n",
            "1.26602 : [(3, 9), (4, 16)]\n",
            "0.77854 : [(3, 10), (4, 15)]\n",
            "0.22798 : [(3, 11), (4, 14)]\n",
            "0.34104 : [(3, 12), (4, 13)]\n",
            "0.88244 : [(3, 13), (4, 12)]\n",
            "1.35235 : [(3, 14), (4, 11)]\n",
            "1.7127 : [(3, 15), (4, 10)]\n",
            "1.93429 : [(3, 16), (4, 9)]\n",
            "1.99918 : [(3, 17), (4, 8)]\n",
            "2.40699 : [(4, 6)]\n",
            "1.78201 : [(4, 7)]\n",
            "2.0698 : [(5, 6)]\n",
            "1.97538 : [(5, 7)]\n",
            "0.48602 : [(6, 8)]\n",
            "0.59153 : [(6, 9)]\n",
            "1.14236 : [(6, 10)]\n",
            "1.67279 : [(6, 11)]\n",
            "2.08699 : [(6, 12)]\n",
            "2.34146 : [(6, 13)]\n",
            "2.41272 : [(6, 14)]\n",
            "2.2944 : [(6, 15)]\n",
            "1.99711 : [(6, 16)]\n",
            "1.5488 : [(6, 17)]\n",
            "0.9585 : [(7, 8)]\n",
            "0.42513 : [(7, 9)]\n",
            "0.14268 : [(7, 10)]\n",
            "0.69893 : [(7, 11)]\n",
            "1.19856 : [(7, 12)]\n",
            "1.60108 : [(7, 13)]\n",
            "1.8739 : [(7, 14)]\n",
            "1.9949 : [(7, 15)]\n",
            "1.95429 : [(7, 16)]\n",
            "1.75536 : [(7, 17)]\n",
            "Podaj dlugosc boku: 1.90211\n"
          ]
        },
        {
          "output_type": "display_data",
          "data": {
            "text/plain": [
              "<Figure size 1000x1000 with 1 Axes>"
            ],
            "image/png": "[encoded data removed]"
          },
          "metadata": {}
        },
        {
          "output_type": "stream",
          "name": "stdout",
          "text": [
            "Figura nie posiada boku równoległego do osi współrzędnych\n"
          ]
        },
        {
          "output_type": "execute_result",
          "data": {
            "text/plain": [
              "False"
            ]
          },
          "metadata": {},
          "execution_count": 128
        }
      ]
    }
  ]
}